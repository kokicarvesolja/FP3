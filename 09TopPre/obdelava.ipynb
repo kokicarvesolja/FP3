{
 "cells": [
  {
   "cell_type": "code",
   "execution_count": 1,
   "metadata": {},
   "outputs": [],
   "source": [
    "import matplotlib.pyplot as plt\n",
    "from matplotlib import rc\n",
    "import numpy as np\n",
    "from scipy.optimize import curve_fit\n",
    "from uncertainties import ufloat\n",
    "from uncertainties import unumpy as unp\n",
    "import array_to_latex as a2l\n",
    "import csv\n",
    "import pandas as pd\n",
    "from astropy.io.votable import parse\n",
    "from astropy.table import QTable, Table, Column\n",
    "\n",
    "rc('font', **{'family': 'serif', 'serif': ['Computer Modern']}) #font na grafih je LaTexov\n",
    "rc('text', usetex=True)"
   ]
  },
  {
   "cell_type": "code",
   "execution_count": 9,
   "metadata": {},
   "outputs": [
    {
     "data": {
      "text/plain": [
       "(array([88.6+/-2.0, 84.89999999999999+/-2.0, 80.9+/-2.0, 72.9+/-2.0,\n",
       "        68.9+/-2.0, 65.0+/-1.0, 58.300000000000004+/-1.0, 54.4+/-1.0,\n",
       "        49.5+/-1.0, 42.6+/-0.1, 40.5+/-0.1], dtype=object),\n",
       " array([3.7 , 3.57, 3.4 , 3.07, 2.9 , 2.73, 2.47, 2.3 , 2.01, 1.73, 1.64]))"
      ]
     },
     "execution_count": 9,
     "metadata": {},
     "output_type": "execute_result"
    }
   ],
   "source": [
    "data = np.loadtxt('meritve1.txt')\n",
    "\n",
    "delta_T = data[:, 1] - data[:, 0]\n",
    "U = data[:, 2]\n",
    "\n",
    "dT = unp.uarray(delta_T, [2, 2, 2, 2, 2, 1, 1, 1, 1, 0.1, 0.1])\n",
    "\n",
    "dT, U"
   ]
  },
  {
   "cell_type": "code",
   "execution_count": 21,
   "metadata": {},
   "outputs": [
    {
     "name": "stdout",
     "output_type": "stream",
     "text": [
      "\\begin{array}\n",
      "   88.60 &    3.70\\\\\n",
      "   84.90 &    3.57\\\\\n",
      "   80.90 &    3.40\\\\\n",
      "   72.90 &    3.07\\\\\n",
      "   68.90 &    2.90\\\\\n",
      "   65.00 &    2.73\\\\\n",
      "   58.30 &    2.47\\\\\n",
      "   54.40 &    2.30\\\\\n",
      "   49.50 &    2.01\\\\\n",
      "   42.60 &    1.73\\\\\n",
      "   40.50 &    1.64\n",
      "\\end{array}\n",
      "None\n"
     ]
    }
   ],
   "source": [
    "data1 = np.array([delta_T, U])\n",
    "print(a2l.to_ltx(data1.T, frmt='{:6.2f}', arraytype='array'))"
   ]
  },
  {
   "cell_type": "code",
   "execution_count": 10,
   "metadata": {},
   "outputs": [
    {
     "data": {
      "text/plain": [
       "(22.644996182269992,\n",
       " 0.4092379480369521,\n",
       " 3.3877183371818638,\n",
       " 0.7026592847026149)"
      ]
     },
     "execution_count": 10,
     "metadata": {},
     "output_type": "execute_result"
    }
   ],
   "source": [
    "def linearna (x, k, n):\n",
    "    return k * x + n\n",
    "\n",
    "par, cov = curve_fit(linearna, U, unp.nominal_values(dT), sigma=unp.std_devs(dT), absolute_sigma=True)\n",
    "\n",
    "k, n = par\n",
    "\n",
    "dk, dn = np.sqrt(np.diag(cov))\n",
    "\n",
    "k, dk, n, dn"
   ]
  },
  {
   "cell_type": "code",
   "execution_count": 13,
   "metadata": {},
   "outputs": [
    {
     "data": {
      "image/png": "[encoded data removed]",
      "text/plain": [
       "<Figure size 432x288 with 1 Axes>"
      ]
     },
     "metadata": {
      "needs_background": "light"
     },
     "output_type": "display_data"
    }
   ],
   "source": [
    "fig, ax = plt.subplots()\n",
    "\n",
    "ax.errorbar(U, unp.nominal_values(dT), yerr=unp.std_devs(dT), fmt='.')\n",
    "\n",
    "napetost = np.linspace(1.5, 3.75)\n",
    "\n",
    "ax.plot(napetost, linearna(napetost, *par), color='k')\n",
    "\n",
    "ax.set_title(r'Kalibracija termočlena')\n",
    "ax.set_xlabel(r'$U[mV]$')\n",
    "ax.set_ylabel(r\"$\\Delta T [K]$\")\n",
    "fig.tight_layout()\n",
    "fig.savefig('kalibracija.pdf')"
   ]
  },
  {
   "cell_type": "code",
   "execution_count": 50,
   "metadata": {},
   "outputs": [
    {
     "name": "stdout",
     "output_type": "stream",
     "text": [
      "\\begin{array}\n",
      "    30.5 &   228.0\\\\\n",
      "    35.0 &   275.0\\\\\n",
      "    40.0 &   306.0\\\\\n",
      "    44.7 &   348.0\\\\\n",
      "    50.0 &   378.0\\\\\n",
      "    55.9 &   409.0\\\\\n",
      "    60.5 &   449.0\n",
      "\\end{array}\n",
      "None\n"
     ]
    }
   ],
   "source": [
    "data = np.loadtxt('meritve2.txt')\n",
    "\n",
    "P = data[:, 0]\n",
    "\n",
    "U = data[:, 1]\n",
    "\n",
    "data1 = np.array([P, U])\n",
    "print(a2l.to_ltx(data1.T, frmt='{:6.1f}', arraytype='array'))\n"
   ]
  },
  {
   "cell_type": "code",
   "execution_count": 53,
   "metadata": {},
   "outputs": [
    {
     "data": {
      "text/plain": [
       "(22.644996182269992, 0.9252496630651096)"
      ]
     },
     "execution_count": 53,
     "metadata": {},
     "output_type": "execute_result"
    }
   ],
   "source": [
    "l = unp.uarray([5.6], [0.1]) * 1e-2\n",
    "R = unp.uarray([4.46], [0.01]) * 1e-2 / 2\n",
    "\n",
    "S = np.pi * R ** 2\n",
    "\n",
    "dT = linearna(U, *par)\n",
    "\n",
    "par, cov = curve_fit(linearna, unp.nominal_values(dT * S / l), P, sigma=[1] * 7)\n",
    "\n",
    "k1, n1 = par \n",
    "dk1, dn1 = np.sqrt(np.diag(cov))\n",
    "\n",
    "k, dk1"
   ]
  },
  {
   "cell_type": "code",
   "execution_count": 56,
   "metadata": {},
   "outputs": [
    {
     "data": {
      "image/png": "[encoded data removed]",
      "text/plain": [
       "<Figure size 432x288 with 1 Axes>"
      ]
     },
     "metadata": {
      "needs_background": "light"
     },
     "output_type": "display_data"
    }
   ],
   "source": [
    "fig, ax = plt.subplots()\n",
    "\n",
    "ax.scatter(unp.nominal_values(dT * S / l), P, zorder=3)\n",
    "x_lin = np.linspace(1, 2.75)\n",
    "ax.plot(x_lin, linearna(x_lin, *par), color='k')\n",
    "\n",
    "ax.set_title(r'Odvisnost moči $P$ od temperaturnega gradienta')\n",
    "ax.set_xlabel(r'$\\Delta T S / \\ell \\,[\\mathrm{mK}]$')\n",
    "ax.set_ylabel(r\"$P\\,[\\mathrm{W}]$\")\n",
    "fig.savefig('lambda-fit.pdf')"
   ]
  }
 ],
 "metadata": {
  "kernelspec": {
   "display_name": "Python 3",
   "language": "python",
   "name": "python3"
  },
  "language_info": {
   "codemirror_mode": {
    "name": "ipython",
    "version": 3
   },
   "file_extension": ".py",
   "mimetype": "text/x-python",
   "name": "python",
   "nbconvert_exporter": "python",
   "pygments_lexer": "ipython3",
   "version": "3.10.8"
  },
  "orig_nbformat": 4,
  "vscode": {
   "interpreter": {
    "hash": "e7370f93d1d0cde622a1f8e1c04877d8463912d04d973331ad4851f04de6915a"
   }
  }
 },
 "nbformat": 4,
 "nbformat_minor": 2
}
