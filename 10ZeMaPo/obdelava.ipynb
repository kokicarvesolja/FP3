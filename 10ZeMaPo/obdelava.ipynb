{
 "cells": [
  {
   "cell_type": "code",
   "execution_count": 2,
   "metadata": {},
   "outputs": [],
   "source": [
    "import matplotlib.pyplot as plt\n",
    "from matplotlib import rc\n",
    "import numpy as np\n",
    "from scipy.optimize import curve_fit\n",
    "from uncertainties import ufloat\n",
    "from uncertainties import unumpy as unp\n",
    "import array_to_latex as a2l\n",
    "import csv\n",
    "import pandas as pd\n",
    "from astropy.io.votable import parse\n",
    "from astropy.table import QTable, Table, Column\n",
    "\n",
    "rc('font', **{'family': 'serif', 'serif': ['Computer Modern']}) #font na grafih je LaTexov\n",
    "rc('text', usetex=True)"
   ]
  },
  {
   "cell_type": "code",
   "execution_count": 18,
   "metadata": {},
   "outputs": [
    {
     "data": {
      "text/plain": [
       "(21.91402956615779, 0.18076592617286003, 0.008248867495005115)"
      ]
     },
     "execution_count": 18,
     "metadata": {},
     "output_type": "execute_result"
    }
   ],
   "source": [
    "mi_0 = 4e-7 * np.pi\n",
    "N = unp.uarray([60], [0])\n",
    "l = unp.uarray([60], [0.5]) * 1e-2\n",
    "d = unp.uarray([12.7e-2], [0.6e-2])\n",
    "\n",
    "data = np.loadtxt('meritev1.txt')\n",
    "\n",
    "I = unp.uarray(data[:, 1], [0.1] * 4) * 1e-3\n",
    "\n",
    "B = mi_0 * N * I / (unp.sqrt(l ** 2 + d ** 2))\n",
    "\n",
    "\n",
    "np.average(unp.nominal_values(B)) * 1e6, np.average(unp.std_devs(B)) * 1e6, np.average(unp.std_devs(B)) / np.average(unp.nominal_values(B))"
   ]
  },
  {
   "cell_type": "code",
   "execution_count": 16,
   "metadata": {},
   "outputs": [
    {
     "name": "stdout",
     "output_type": "stream",
     "text": [
      "\\begin{array}\n",
      "   20.00 &  205.20\\\\\n",
      "   15.00 &  193.60\\\\\n",
      "   10.00 &  180.00\\\\\n",
      "    5.00 &  134.20\n",
      "\\end{array}\n",
      "None\n"
     ]
    }
   ],
   "source": [
    "print(a2l.to_ltx(data, frmt='{:6.2f}', arraytype='array'))"
   ]
  },
  {
   "cell_type": "code",
   "execution_count": 19,
   "metadata": {},
   "outputs": [],
   "source": [
    "m_m = unp.uarray([44e-3], [0.5e-3])\n",
    "r = unp.uarray([16e-3/2], [0.5e-3/2])\n",
    "l = unp.uarray([45e-3], [0.5e-3])\n",
    "\n",
    "# Plastic hollow cylinder case.\n",
    "m_t = unp.uarray([6e-3], [0.5e-3])\n",
    "r_1 = unp.uarray([17e-3/2], [0.5e-3/2])\n",
    "r_2 = unp.uarray([19e-3/2], [0.5e-3/2])\n",
    "L = unp.uarray([50e-3], [0.5e-3])"
   ]
  },
  {
   "cell_type": "code",
   "execution_count": 43,
   "metadata": {},
   "outputs": [
    {
     "data": {
      "text/plain": [
       "array(2.387+/-0.013441230102437385, dtype=object)"
      ]
     },
     "execution_count": 43,
     "metadata": {},
     "output_type": "execute_result"
    }
   ],
   "source": [
    "t = unp.uarray(np.average(1/10 * np.array([23.97, 23.68, 23.96])), np.std(1/10 * np.array([23.97, 23.68, 23.96])))\n",
    "\n",
    "t"
   ]
  },
  {
   "cell_type": "code",
   "execution_count": 44,
   "metadata": {},
   "outputs": [
    {
     "data": {
      "text/plain": [
       "(array([8.129+/-0.1941497891448765], dtype=object),\n",
       " array([1.4937500000000004+/-0.12732426785192122], dtype=object),\n",
       " array([9.62275+/-0.23217581658955735], dtype=object))"
      ]
     },
     "execution_count": 44,
     "metadata": {},
     "output_type": "execute_result"
    }
   ],
   "source": [
    "J_m = m_m/12 * (3*r**2 + l**2)\n",
    "\n",
    "J_t = m_t/12 * (3*(r_1**2 + r_2**2) + L**2)\n",
    "\n",
    "J = J_m + J_t\n",
    "\n",
    "J_m *1e6, J_t * 1e6, J * 1e6 "
   ]
  },
  {
   "cell_type": "code",
   "execution_count": 45,
   "metadata": {},
   "outputs": [
    {
     "data": {
      "text/plain": [
       "array([6.667363015284236e-05+/-1.7753024974907466e-06], dtype=object)"
      ]
     },
     "execution_count": 45,
     "metadata": {},
     "output_type": "execute_result"
    }
   ],
   "source": [
    "prod = J * (2 * np.pi / t)**2\n",
    "\n",
    "prod"
   ]
  },
  {
   "cell_type": "code",
   "execution_count": 39,
   "metadata": {},
   "outputs": [
    {
     "name": "stdout",
     "output_type": "stream",
     "text": [
      "\\begin{array}\n",
      "   23.75 &   60.00\\\\\n",
      "   26.75 &   49.00\\\\\n",
      "   31.75 &   33.00\\\\\n",
      "   36.75 &   22.00\\\\\n",
      "   41.75 &   15.00\\\\\n",
      "   46.75 &   10.00\\\\\n",
      "   51.75 &    7.00\n",
      "\\end{array}\n",
      "None\n"
     ]
    },
    {
     "data": {
      "text/plain": [
       "array([1.0471975511965976+/-0.03490658503988659,\n",
       "       0.8552113334772214+/-0.03490658503988659,\n",
       "       0.5759586531581288+/-0.03490658503988659,\n",
       "       0.3839724354387525+/-0.03490658503988659,\n",
       "       0.2617993877991494+/-0.03490658503988659,\n",
       "       0.17453292519943295+/-0.03490658503988659,\n",
       "       0.12217304763960307+/-0.03490658503988659], dtype=object)"
      ]
     },
     "execution_count": 39,
     "metadata": {},
     "output_type": "execute_result"
    }
   ],
   "source": [
    "data = np.loadtxt('meritev2.txt')\n",
    "\n",
    "data[:, 0] = data[:, 0] + 9.5 + 2.25\n",
    "\n",
    "print(a2l.to_ltx(data, frmt='{:6.2f}', arraytype='array'))\n",
    "\n",
    "x = unp.uarray(data[:, 0], [0.5] * 7) * 1e-2\n",
    "\n",
    "kot = unp.uarray(np.deg2rad(data[:, 1]), np.deg2rad([2] * 7))\n",
    "\n",
    "kot"
   ]
  },
  {
   "cell_type": "code",
   "execution_count": 41,
   "metadata": {},
   "outputs": [
    {
     "data": {
      "text/plain": [
       "array(200847.56181263528+/-28388.07687960279, dtype=object)"
      ]
     },
     "execution_count": 41,
     "metadata": {},
     "output_type": "execute_result"
    }
   ],
   "source": [
    "ratios = unp.tan(kot) * 4 * np.pi / mi_0 * (x)**3\n",
    "\n",
    "R = unp.uarray(np.average(unp.nominal_values(ratios)), np.average(unp.std_devs(ratios)))\n",
    "\n",
    "R"
   ]
  },
  {
   "cell_type": "code",
   "execution_count": 42,
   "metadata": {},
   "outputs": [
    {
     "data": {
      "text/plain": [
       "array([18.21980685671898+/-1.3102555089184256], dtype=object)"
      ]
     },
     "execution_count": 42,
     "metadata": {},
     "output_type": "execute_result"
    }
   ],
   "source": [
    "B_Z = unp.sqrt(prod/R)\n",
    "\n",
    "B_Z * 1e6"
   ]
  }
 ],
 "metadata": {
  "kernelspec": {
   "display_name": "Python 3",
   "language": "python",
   "name": "python3"
  },
  "language_info": {
   "codemirror_mode": {
    "name": "ipython",
    "version": 3
   },
   "file_extension": ".py",
   "mimetype": "text/x-python",
   "name": "python",
   "nbconvert_exporter": "python",
   "pygments_lexer": "ipython3",
   "version": "3.10.8 (main, Nov  1 2022, 14:18:21) [GCC 12.2.0]"
  },
  "orig_nbformat": 4,
  "vscode": {
   "interpreter": {
    "hash": "e7370f93d1d0cde622a1f8e1c04877d8463912d04d973331ad4851f04de6915a"
   }
  }
 },
 "nbformat": 4,
 "nbformat_minor": 2
}
