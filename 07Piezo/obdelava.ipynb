{
 "cells": [
  {
   "cell_type": "code",
   "execution_count": 1,
   "id": "bb8f65df",
   "metadata": {
    "collapsed": true
   },
   "outputs": [],
   "source": [
    "import matplotlib.pyplot as plt\n",
    "from matplotlib import rc\n",
    "import numpy as np\n",
    "from scipy.optimize import curve_fit\n",
    "from uncertainties import ufloat\n",
    "from uncertainties import unumpy as unp\n",
    "import array_to_latex as a2l\n",
    "import csv\n",
    "import pandas as pd\n",
    "from astropy.io.votable import parse\n",
    "from astropy.table import QTable, Table, Column\n",
    "import sympy as sym\n",
    "\n",
    "rc('font', **{'family': 'serif', 'serif': ['Computer Modern']}) #font na grafih je LaTexov\n",
    "rc('text', usetex=True)"
   ]
  },
  {
   "cell_type": "code",
   "execution_count": 2,
   "id": "fa7610f9",
   "metadata": {},
   "outputs": [
    {
     "data": {
      "text/plain": [
       "array([11.341149479459153+/-0.11938052083641214], dtype=object)"
      ]
     },
     "execution_count": 2,
     "metadata": {},
     "output_type": "execute_result"
    }
   ],
   "source": [
    "# konstante \n",
    "ε_0 = 8.854e-12\n",
    "g = 9.80665\n",
    "R = unp.uarray([5e9], [0.1e9])\n",
    "S = unp.uarray([np.pi * (38e-3 / 2) ** 2], [np.pi * 2 * (38e-3 / 2) * 0.2e-3 / 2])\n",
    "b = unp.uarray([6.5e-3], [0.2e-3])\n",
    "m_1, m_2, m_3, dm = 196e-3, 503e-3, 1007e-3, 1e-3\n",
    "\n",
    "S * 1e4"
   ]
  },
  {
   "cell_type": "code",
   "execution_count": 39,
   "id": "4cfeca34",
   "metadata": {},
   "outputs": [],
   "source": [
    "def theta(t, t_0):\n",
    "    if t.all() >= t_0:\n",
    "        return 1\n",
    "    else:\n",
    "        return 0\n",
    "\n",
    "\n",
    "def theoreticalfit(t, u_b, u_0, t_0, tau, s=1):\n",
    "    return u_b + s * u_0 * np.exp(-(t - t_0) / tau) * np.heaviside(t-t_0, 1)\n",
    "\n",
    "def U_ansatz(t, U_0, tau):\n",
    "    return U_0 * np.exp(-t/tau)"
   ]
  },
  {
   "cell_type": "code",
   "execution_count": 47,
   "id": "68e89618",
   "metadata": {},
   "outputs": [
    {
     "name": "stderr",
     "output_type": "stream",
     "text": [
      "/tmp/ipykernel_16529/330290888.py:9: RuntimeWarning: overflow encountered in exp\n",
      "  return u_b + s * u_0 * np.exp(-(t - t_0) / tau) * np.heaviside(t-t_0, 1)\n",
      "/tmp/ipykernel_16529/330290888.py:9: RuntimeWarning: invalid value encountered in multiply\n",
      "  return u_b + s * u_0 * np.exp(-(t - t_0) / tau) * np.heaviside(t-t_0, 1)\n"
     ]
    },
    {
     "data": {
      "text/plain": [
       "[<matplotlib.lines.Line2D at 0x7f5c723cd870>]"
      ]
     },
     "execution_count": 47,
     "metadata": {},
     "output_type": "execute_result"
    },
    {
     "data": {
      "image/png": "[encoded data removed]",
      "text/plain": [
       "<Figure size 432x288 with 1 Axes>"
      ]
     },
     "metadata": {
      "needs_background": "light"
     },
     "output_type": "display_data"
    }
   ],
   "source": [
    "data = np.array(pd.read_csv(r'01P.csv'))\n",
    "\n",
    "t, U = data[:, 0], data[:, 1]\n",
    "t, U = t[t < 20], U[t < 20]\n",
    "\n",
    "par, cov = curve_fit(theoreticalfit, xdata=t, ydata=U)\n",
    "\n",
    "fig, ax = plt.subplots()\n",
    "ax.plot(t, U, alpha=0.5)\n",
    "ax.plot(t[t>-30], U[t>-30], color='r')\n",
    "ax.plot(t[t<-31], U[t<-31], color='b')\n",
    "ax.plot(t, theoreticalfit(t, *par))"
   ]
  }
 ],
 "metadata": {
  "kernelspec": {
   "display_name": "Python 3 (ipykernel)",
   "language": "python",
   "name": "python3"
  },
  "language_info": {
   "codemirror_mode": {
    "name": "ipython",
    "version": 3
   },
   "file_extension": ".py",
   "mimetype": "text/x-python",
   "name": "python",
   "nbconvert_exporter": "python",
   "pygments_lexer": "ipython3",
   "version": "3.10.8"
  }
 },
 "nbformat": 4,
 "nbformat_minor": 5
}
