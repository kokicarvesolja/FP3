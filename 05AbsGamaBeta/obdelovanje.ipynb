{
 "cells": [
  {
   "cell_type": "code",
   "execution_count": 6,
   "id": "b1ad4f9d",
   "metadata": {},
   "outputs": [],
   "source": [
    "import matplotlib.pyplot as plt\n",
    "from matplotlib import rc\n",
    "import numpy as np\n",
    "from scipy.optimize import curve_fit\n",
    "from uncertainties import ufloat\n",
    "from uncertainties import unumpy as unp\n",
    "import array_to_latex as a2l\n",
    "import csv\n",
    "import pandas as pd\n",
    "from astropy.io.votable import parse\n",
    "from astropy.table import QTable, Table, Column\n",
    "import sympy as sym\n",
    "\n",
    "rc('font', **{'family': 'serif', 'serif': ['Computer Modern']}) #font na grafih je LaTexov\n",
    "rc('text', usetex=True)\n"
   ]
  },
  {
   "cell_type": "code",
   "execution_count": 7,
   "id": "afe89cd7",
   "metadata": {},
   "outputs": [
    {
     "name": "stdout",
     "output_type": "stream",
     "text": [
      "\\begin{array}\n",
      "    0.01 &  1362.00 &   68.10 &    0.12\\\\\n",
      "    0.02 &  764.00 &   38.20 &    0.16\\\\\n",
      "    0.03 &  564.00 &   28.20 &    0.19\\\\\n",
      "    0.04 &  338.00 &   16.90 &    0.24\\\\\n",
      "    0.05 &  247.00 &   12.35 &    0.28\\\\\n",
      "    0.06 &  185.00 &    9.25 &    0.33\\\\\n",
      "    0.07 &  155.00 &    7.75 &    0.36\\\\\n",
      "    0.08 &  128.00 &    6.40 &    0.40\\\\\n",
      "    0.09 &  110.00 &    5.50 &    0.43\\\\\n",
      "    0.10 &  100.00 &    5.00 &    0.45\n",
      "\\end{array}\n",
      "None\n"
     ]
    }
   ],
   "source": [
    "d_1 = 1.0e-2\n",
    "t = 20\n",
    "\n",
    "data = np.loadtxt('podatki.txt')\n",
    "data = np.append(data, np.ones((10, 2)), 1)\n",
    "data = unp.uarray(data, 10 * [[0.5e-2, 0, 0, 0]])\n",
    "data[:, 0] = d_1 * data[:, 0]\n",
    "data[:, 2] = data[:, 1] / t\n",
    "data[:, 3] = 1 / unp.sqrt(data[:, 2])\n",
    "print(a2l.to_ltx(unp.nominal_values(data), frmt='{:6.2f}', arraytype='array'))"
   ]
  },
  {
   "cell_type": "code",
   "execution_count": 8,
   "id": "51d3f9b3",
   "metadata": {},
   "outputs": [
    {
     "data": {
      "image/png": "[encoded data removed]",
      "text/plain": [
       "<Figure size 432x288 with 1 Axes>"
      ]
     },
     "metadata": {
      "needs_background": "light"
     },
     "output_type": "display_data"
    }
   ],
   "source": [
    "def linearna (x, k, n): \n",
    "    return k * x + n\n",
    "\n",
    "k, _ = curve_fit(linearna, xdata=unp.nominal_values(data[:, 0]), ydata=unp.nominal_values(data[:, 3]))\n",
    "\n",
    "fig, ax = plt.subplots()\n",
    "\n",
    "ax.errorbar(unp.nominal_values(data[:, 0]), unp.nominal_values(data[:, 3]), \n",
    "           xerr = unp.std_devs(data[:, 0]), yerr = unp.std_devs(data[:, 3]), marker='o', linestyle='None', \n",
    "           label=\"Izmerjene vrednosti\")\n",
    "ax.plot(unp.nominal_values(data[:, 0]), linearna(unp.nominal_values(data[:, 0]), *k), color='k',\n",
    "        label=\"Regresivna premica\")\n",
    "plt.title('$\\sqrt{A} ^{-1}$ v odvisnosti od $r$')\n",
    "plt.xlabel(\"Razdalja $r [cm]$\")\n",
    "plt.ylabel(\"$\\sqrt{A} ^{-1}$\")\n",
    "plt.grid()\n",
    "plt.legend()\n",
    "fig.savefig(\"graf1.pdf\")\n"
   ]
  },
  {
   "cell_type": "code",
   "execution_count": 9,
   "id": "2c767269",
   "metadata": {},
   "outputs": [
    {
     "name": "stdout",
     "output_type": "stream",
     "text": [
      "0.36777777777777776\n"
     ]
    }
   ],
   "source": [
    "# sevanje ozadja\n",
    "\n",
    "N_B = 331\n",
    "\n",
    "t = 15 * 60\n",
    "\n",
    "A_B = N_B / t\n",
    "print(A_B)"
   ]
  },
  {
   "cell_type": "code",
   "execution_count": 10,
   "id": "19a686a4",
   "metadata": {},
   "outputs": [
    {
     "name": "stdout",
     "output_type": "stream",
     "text": [
      "[[ 0.045      22.55529915]\n",
      " [ 0.065      22.6065812 ]\n",
      " [ 0.11       20.24760684]\n",
      " [ 0.245      19.32452991]\n",
      " [ 0.38       14.96555556]\n",
      " [ 0.515      12.65786325]\n",
      " [ 0.65       10.52965812]\n",
      " [ 0.785      10.52965812]\n",
      " [ 0.92        8.29888889]\n",
      " [ 0.99        8.11940171]\n",
      " [ 1.29        2.24760684]\n",
      " [ 1.335       1.96555556]\n",
      " [ 1.355       1.96555556]\n",
      " [ 1.42        1.83735043]\n",
      " [ 1.485       1.29888889]\n",
      " [ 1.55        1.63222222]\n",
      " [ 1.61        1.47837607]\n",
      " [ 1.67        1.40145299]\n",
      " [ 1.73        1.40145299]]\n"
     ]
    }
   ],
   "source": [
    "rho = 2700\n",
    "\n",
    "beta = np.loadtxt(\"absbeta.txt\")\n",
    "\n",
    "beta[:, 0] = beta[:, 0] / 100\n",
    "\n",
    "beta[:, 1] = beta[:, 1] / 39 - A_B\n",
    "\n",
    "print(beta)"
   ]
  },
  {
   "cell_type": "code",
   "execution_count": 11,
   "id": "1d0c1b79",
   "metadata": {},
   "outputs": [
    {
     "name": "stdout",
     "output_type": "stream",
     "text": [
      "3.7657803456863146 0.08848222865329448\n"
     ]
    },
    {
     "name": "stderr",
     "output_type": "stream",
     "text": [
      "/home/kristoferrobin/.local/lib/python3.10/site-packages/scipy/optimize/_minpack_py.py:833: OptimizeWarning: Covariance of the parameters could not be estimated\n",
      "  warnings.warn('Covariance of the parameters could not be estimated',\n"
     ]
    },
    {
     "data": {
      "image/png": "[encoded data removed]",
      "text/plain": [
       "<Figure size 432x288 with 1 Axes>"
      ]
     },
     "metadata": {
      "needs_background": "light"
     },
     "output_type": "display_data"
    }
   ],
   "source": [
    "k1, _ = curve_fit(linearna, beta[17:, 0], beta[17:, 1])\n",
    "\n",
    "print(*k)\n",
    "\n",
    "plt.scatter(beta[:, 0], beta[:, 1], label='Izmerjeni podatki')\n",
    "plt.plot(beta[:, 0], linearna(beta[:, 0], *k1), color='k', label='Regresivna premica')\n",
    "plt.grid()\n",
    "plt.legend()\n",
    "plt.title(r'Doseg sevanja $\\beta$')\n",
    "plt.xlabel(\"Ploščinska gostota $s [kgm ^{-2}]$\")\n",
    "plt.ylabel(\"Aktivnost $A[Bq]$\")\n",
    "plt.savefig(\"beta.pdf\")\n"
   ]
  },
  {
   "cell_type": "code",
   "execution_count": 12,
   "id": "f5b8a5ac",
   "metadata": {},
   "outputs": [
    {
     "name": "stdout",
     "output_type": "stream",
     "text": [
      "[[ 0.00000000e+00  0.00000000e+00]\n",
      " [ 1.08465608e+01 -7.35486880e-02]\n",
      " [ 1.66666667e+01 -1.55060184e-01]\n",
      " [ 2.75132275e+01 -2.43810188e-01]\n",
      " [ 3.20282187e+01 -2.69663567e-01]\n",
      " [ 4.28747795e+01 -2.86470685e-01]\n",
      " [ 4.86948854e+01 -3.82992252e-01]\n",
      " [ 6.55643739e+01 -5.16904670e-01]\n",
      " [ 7.64109347e+01 -5.41597282e-01]\n",
      " [ 9.75925926e+01 -7.64740834e-01]]\n"
     ]
    }
   ],
   "source": [
    "gama = np.loadtxt(\"absgama.txt\")\n",
    "rho_s = 11340\n",
    "\n",
    "gama = gama[gama[:, 0].argsort()]\n",
    "\n",
    "gama[:, 0] = gama[:, 0] * 100 / rho_s\n",
    "\n",
    "gama[:, 1] = np.log(gama[:, 1] / gama[0, 1])\n",
    "\n",
    "print(gama)"
   ]
  },
  {
   "cell_type": "code",
   "execution_count": 13,
   "id": "f6368cb0",
   "metadata": {},
   "outputs": [
    {
     "name": "stdout",
     "output_type": "stream",
     "text": [
      "-0.007509836623339272 -0.00942329606200681\n"
     ]
    },
    {
     "data": {
      "image/png": "[encoded data removed]",
      "text/plain": [
       "<Figure size 432x288 with 1 Axes>"
      ]
     },
     "metadata": {
      "needs_background": "light"
     },
     "output_type": "display_data"
    }
   ],
   "source": [
    "k2, _ = curve_fit(linearna, gama[:, 0], gama[:, 1])\n",
    "\n",
    "print(*k2)\n",
    "\n",
    "plt.scatter(gama[:, 0], gama[:, 1], label='Izmerjeni podatki')\n",
    "plt.plot(gama[:, 0], linearna(gama[:, 0], *k2), color='k', label='Regresivna premica')\n",
    "plt.grid()\n",
    "plt.legend()\n",
    "plt.title(\"Določanje ekstinkcijskega koeficienta za Pb\")\n",
    "plt.xlabel(\"Debelina $d [m]$\")\n",
    "plt.ylabel(r'$\\ln \\left(\\frac{\\phi}{\\phi_0}\\right)$')\n",
    "plt.savefig(\"graf3.pdf\")"
   ]
  },
  {
   "cell_type": "code",
   "execution_count": null,
   "id": "12d31d92",
   "metadata": {},
   "outputs": [],
   "source": []
  }
 ],
 "metadata": {
  "kernelspec": {
   "display_name": "Python 3 (ipykernel)",
   "language": "python",
   "name": "python3"
  },
  "language_info": {
   "codemirror_mode": {
    "name": "ipython",
    "version": 3
   },
   "file_extension": ".py",
   "mimetype": "text/x-python",
   "name": "python",
   "nbconvert_exporter": "python",
   "pygments_lexer": "ipython3",
   "version": "3.10.8"
  }
 },
 "nbformat": 4,
 "nbformat_minor": 5
}
