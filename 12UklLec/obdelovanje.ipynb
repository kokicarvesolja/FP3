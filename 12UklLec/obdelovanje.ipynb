{
 "cells": [
  {
   "cell_type": "code",
   "execution_count": 1,
   "metadata": {},
   "outputs": [],
   "source": [
    "import matplotlib.pyplot as plt\n",
    "from matplotlib import rc\n",
    "import numpy as np\n",
    "from scipy.optimize import curve_fit\n",
    "from uncertainties import ufloat\n",
    "from uncertainties import unumpy as unp\n",
    "import array_to_latex as a2l\n",
    "import csv\n",
    "import pandas as pd\n",
    "from astropy.io.votable import parse\n",
    "from astropy.table import QTable, Table, Column\n",
    "\n",
    "rc('font', **{'family': 'serif', 'serif': ['Computer Modern']}) #font na grafih je LaTexov\n",
    "rc('text', usetex=True)"
   ]
  },
  {
   "cell_type": "code",
   "execution_count": 10,
   "metadata": {},
   "outputs": [
    {
     "data": {
      "text/plain": [
       "(array(0.008894444444444444+/-0.00010555555555555555, dtype=object),\n",
       " array([26.664846970643346+/-0.3348590244123977], dtype=object),\n",
       " array([51.757849405858046+/-1.337087791762378], dtype=object))"
      ]
     },
     "execution_count": 10,
     "metadata": {},
     "output_type": "execute_result"
    }
   ],
   "source": [
    "d = unp.uarray([8.9e-2, 8.0e-2], [0.1e-2, 0.1e-2])\n",
    "N = unp.uarray([10, 9], [0, 0])\n",
    "\n",
    "r1 = unp.uarray([48.7e-3], [0.1e-3])\n",
    "a = unp.uarray([55e-2], [0.5e-2])\n",
    "\n",
    "valdol = d / N  \n",
    "\n",
    "valdol = unp.uarray(np.average(unp.nominal_values(valdol)), np.average(unp.std_devs(valdol)))\n",
    "\n",
    "f = r1 ** 2 / valdol\n",
    "\n",
    "b = (1 / f - 1 / a) ** (-1)\n",
    "\n",
    "\n",
    "\n",
    "valdol, f * 1e2, b * 1e2"
   ]
  },
  {
   "cell_type": "code",
   "execution_count": 7,
   "metadata": {},
   "outputs": [
    {
     "name": "stdout",
     "output_type": "stream",
     "text": [
      "\\begin{array}\n",
      "       1  &     724 \\\\\n",
      "       2  &     730 \\\\\n",
      "       3  &     654 \\\\\n",
      "       4  &     674 \\\\\n",
      "       5  &     614 \\\\\n",
      "       6  &     580 \\\\\n",
      "       7  &     560 \\\\\n",
      "       8  &     540 \\\\\n",
      "       9  &     485 \\\\\n",
      "      10  &     500 \n",
      "\\end{array}\n",
      "None\n"
     ]
    }
   ],
   "source": [
    "data = np.loadtxt('meritve.txt')\n",
    "\n",
    "print(a2l.to_ltx(data, frmt='{:6.0f}', arraytype='array'))"
   ]
  },
  {
   "cell_type": "code",
   "execution_count": 19,
   "metadata": {},
   "outputs": [
    {
     "data": {
      "image/png": "[encoded data removed]",
      "text/plain": [
       "<Figure size 432x288 with 1 Axes>"
      ]
     },
     "metadata": {
      "needs_background": "light"
     },
     "output_type": "display_data"
    }
   ],
   "source": [
    "data_v = np.loadtxt('vzdolz.txt')\n",
    "\n",
    "x = np.linspace(-8, 8, 39)\n",
    "\n",
    "fig, ax = plt.subplots()\n",
    "\n",
    "ax.scatter(x, data_v, marker='.', label='meritve')\n",
    "\n",
    "ax.set_title('Vzdolžni prerez uklonske slike točkastega izvora')\n",
    "ax.set_xlabel(r'$x [cm]$')\n",
    "ax.set_ylabel(r'$U_{RMS} [mV]$')\n",
    "ax.legend()\n",
    "fig.tight_layout()\n",
    "fig.savefig('vzdolz.pdf')\n"
   ]
  },
  {
   "cell_type": "code",
   "execution_count": 24,
   "metadata": {},
   "outputs": [
    {
     "data": {
      "image/png": "[encoded data removed]",
      "text/plain": [
       "<Figure size 432x288 with 1 Axes>"
      ]
     },
     "metadata": {
      "needs_background": "light"
     },
     "output_type": "display_data"
    }
   ],
   "source": [
    "data_p = np.loadtxt('precno.txt')\n",
    "data_p3 = np.loadtxt('3cm_precno.txt')\n",
    "\n",
    "fig, ax = plt.subplots()\n",
    "\n",
    "x = np.linspace(-10, 10, 176)\n",
    "\n",
    "ax.scatter(x, data_p, marker='.', label='meritev - središčna lega')\n",
    "ax.scatter(x, data_p3, marker='.', color='k', label='meritev - 3 cm iz središčne lege')\n",
    "\n",
    "ax.set_title('Precni prerez uklonske slike točkastega vira')\n",
    "ax.set_xlabel(r'$x [cm]$')\n",
    "ax.set_ylabel(r'$U_{RMS} [mV]$')\n",
    "ax.legend()\n",
    "fig.tight_layout()\n",
    "fig.savefig('precno.pdf')"
   ]
  }
 ],
 "metadata": {
  "kernelspec": {
   "display_name": "Python 3",
   "language": "python",
   "name": "python3"
  },
  "language_info": {
   "codemirror_mode": {
    "name": "ipython",
    "version": 3
   },
   "file_extension": ".py",
   "mimetype": "text/x-python",
   "name": "python",
   "nbconvert_exporter": "python",
   "pygments_lexer": "ipython3",
   "version": "3.10.8 (main, Nov  1 2022, 14:18:21) [GCC 12.2.0]"
  },
  "orig_nbformat": 4,
  "vscode": {
   "interpreter": {
    "hash": "e7370f93d1d0cde622a1f8e1c04877d8463912d04d973331ad4851f04de6915a"
   }
  }
 },
 "nbformat": 4,
 "nbformat_minor": 2
}
