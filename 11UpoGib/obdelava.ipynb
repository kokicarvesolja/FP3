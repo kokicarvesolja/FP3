{
 "cells": [
  {
   "cell_type": "code",
   "execution_count": 1,
   "metadata": {},
   "outputs": [],
   "source": [
    "import matplotlib.pyplot as plt\n",
    "from matplotlib import rc\n",
    "import numpy as np\n",
    "from scipy.optimize import curve_fit\n",
    "from uncertainties import ufloat\n",
    "from uncertainties import unumpy as unp\n",
    "import array_to_latex as a2l\n",
    "import csv\n",
    "import pandas as pd\n",
    "from astropy.io.votable import parse\n",
    "from astropy.table import QTable, Table, Column\n",
    "\n",
    "rc('font', **{'family': 'serif', 'serif': ['Computer Modern']}) #font na grafih je LaTexov\n",
    "rc('text', usetex=True)"
   ]
  },
  {
   "cell_type": "code",
   "execution_count": 2,
   "metadata": {},
   "outputs": [],
   "source": [
    "def linearna (x, k, n):\n",
    "    return k*x + n"
   ]
  },
  {
   "cell_type": "code",
   "execution_count": 4,
   "metadata": {},
   "outputs": [
    {
     "data": {
      "text/plain": [
       "(array([0.00099, 0.00202, 0.0031 , 0.00403, 0.0052 , 0.00602, 0.00713,\n",
       "        0.0081 , 0.00926]),\n",
       " array([0.79461, 0.81423, 0.83385, 0.77499, 0.90252, 0.81423, 1.02024,\n",
       "        1.06929, 1.14777]))"
      ]
     },
     "execution_count": 4,
     "metadata": {},
     "output_type": "execute_result"
    }
   ],
   "source": [
    "igla = np.loadtxt('igla.txt')\n",
    "\n",
    "x_i = igla[:, 0] * 1e-3\n",
    "F_i = igla[:, 1] * 1e-3 * 9.81\n",
    "\n",
    "x_i, F_i"
   ]
  },
  {
   "cell_type": "code",
   "execution_count": 14,
   "metadata": {},
   "outputs": [
    {
     "data": {
      "image/png": "[encoded data removed]",
      "text/plain": [
       "<Figure size 432x288 with 1 Axes>"
      ]
     },
     "metadata": {
      "needs_background": "light"
     },
     "output_type": "display_data"
    }
   ],
   "source": [
    "par, cov = curve_fit(linearna, x_i, F_i)\n",
    "\n",
    "k_i, F_gi = par\n",
    "\n",
    "dk_i, dF_gi = np.sqrt(np.diag(cov))\n",
    "\n",
    "fig, ax = plt.subplots()\n",
    "\n",
    "ax.scatter(x_i * 1e3, F_i, marker='.', color='k', label='meritve')\n",
    "\n",
    "x_lin_i = np.linspace(0, 9.5)\n",
    "\n",
    "ax.plot(x_lin_i, linearna(x_lin_i * 1e-3, *par), label='regresivna premica')\n",
    "\n",
    "ax.set_title('Sila merilne igle mikrometra')\n",
    "ax.set_xlabel(r'$\\Delta x [mm]$')\n",
    "ax.set_ylabel(r'$F [N]$')\n",
    "ax.legend()\n",
    "fig.tight_layout()\n",
    "fig.savefig('igla.pdf')\n",
    "\n",
    "k_i, dk_i\n",
    "\n",
    "k_i = unp.uarray([k_i], [dk_i])\n"
   ]
  },
  {
   "cell_type": "code",
   "execution_count": 54,
   "metadata": {},
   "outputs": [
    {
     "data": {
      "text/plain": [
       "(array([0.0001698648569673467+/-3.1449778107348906e-06], dtype=object),\n",
       " array([2.0008333333333337e-10+/-2.2866666666666668e-12], dtype=object),\n",
       " array([107.64860143631341+/-2.3450356894150155], dtype=object),\n",
       " array([43.9565122531613+/-0.8240684708303734], dtype=object),\n",
       " array([0.44492192390886226+/-0.008886190248017144], dtype=object),\n",
       " array([9730.320699708454+/-91.73904594744717], dtype=object))"
      ]
     },
     "execution_count": 54,
     "metadata": {},
     "output_type": "execute_result"
    }
   ],
   "source": [
    "kvader = np.loadtxt('kvader.txt')\n",
    "\n",
    "d_k = unp.uarray(kvader[:, 1], 17*[0.01]) * 1e-3\n",
    "F_k = unp.uarray(kvader[:, 0], 17 * [0.1]) * 1e-3 * 9.81 + k_i * d_k\n",
    "\n",
    "a_k = unp.uarray([7e-3], [0.02e-3])\n",
    "l_k = unp.uarray([56e-2], [0.02e-2])\n",
    "m_k = unp.uarray([267e-3], [2e-3])\n",
    "\n",
    "J_k = a_k ** 4 / 12\n",
    "rho_k = m_k / (a_k ** 2 * l_k)\n",
    "\n",
    "par_k, cov_k = curve_fit(linearna, unp.nominal_values(F_k), unp.nominal_values(d_k), sigma = (unp.std_devs(d_k) + unp.std_devs(F_k)))\n",
    "\n",
    "k_k, n_k = par_k\n",
    "dk_k, dn_k = np.sqrt(np.diag(cov_k))\n",
    "\n",
    "k_k = unp.uarray([k_k], [dk_k])\n",
    "\n",
    "E_k = (l_k ** 3) / (48 * J_k * k_k)\n",
    "\n",
    "F_max_k = 8 * E_k * J_k * 0.1e-2 / (a_k * l_k)\n",
    "\n",
    "u_k = (9.81 * m_k) * l_k ** 3 / (48 * E_k * J_k )\n",
    "\n",
    "k_k, J_k, E_k * 1e-9, F_max_k, u_k * 1e3, rho_k\n"
   ]
  },
  {
   "cell_type": "code",
   "execution_count": 55,
   "metadata": {},
   "outputs": [
    {
     "data": {
      "image/png": "[encoded data removed]",
      "text/plain": [
       "<Figure size 432x288 with 1 Axes>"
      ]
     },
     "metadata": {
      "needs_background": "light"
     },
     "output_type": "display_data"
    }
   ],
   "source": [
    "fig, ax = plt.subplots()\n",
    "\n",
    "ax.errorbar(unp.nominal_values(F_k), unp.nominal_values(d_k)*1e3, yerr=unp.std_devs(d_k) * 1e3, xerr=unp.std_devs(F_k), fmt='.', ecolor='dimgray', label='meritve')\n",
    "\n",
    "ax.plot(unp.nominal_values(F_k), linearna(unp.nominal_values(F_k), *par_k) * 1e3, color='k', label='regresivna premica')\n",
    "\n",
    "ax.set_title('Odmik $u_0$ pri sili $F$ - kvadratni profil')\n",
    "ax.set_xlabel(r'$F [N]$')\n",
    "ax.set_ylabel(r'$u_0$[mm]')\n",
    "ax.legend()\n",
    "fig.tight_layout()\n",
    "fig.savefig('kvader.pdf')"
   ]
  },
  {
   "cell_type": "code",
   "execution_count": 66,
   "metadata": {},
   "outputs": [
    {
     "data": {
      "text/plain": [
       "(array([0.0+/-0.00106901358850638,\n",
       "        0.09894953882174104+/-0.0010844115150249526,\n",
       "        0.2981229246978347+/-0.00134693921649666,\n",
       "        0.4964467717521873+/-0.0016635942553023836,\n",
       "        0.9945926211478567+/-0.003103435212520471,\n",
       "        1.9862118564196198+/-0.005298641732257136,\n",
       "        3.977945715180556+/-0.011612289639030025,\n",
       "        5.957361261026247+/-0.01533321963479292,\n",
       "        10.926076672656826+/-0.02897269930195687,\n",
       "        5.962458493956693+/-0.01642330266001788,\n",
       "        3.977096176358815+/-0.011430981024863463,\n",
       "        1.9942824752261596+/-0.007001667554885221,\n",
       "        0.9950173905587272+/-0.003189064469841842,\n",
       "        0.4947476941087052+/-0.0014041891219123237,\n",
       "        0.3185118564196196+/-0.005298641732257136,\n",
       "        0.09852476941087053+/-0.0010728837881094785,\n",
       "        0.0+/-0.00106901358850638], dtype=object),\n",
       " array([0.0+/-1e-05, 2e-05+/-1e-05, 8.999999999999999e-05+/-1e-05,\n",
       "        0.00014000000000000001+/-1e-05, 0.00032+/-1e-05, 0.00057+/-1e-05,\n",
       "        0.00127+/-1e-05, 0.00168+/-1e-05, 0.00318+/-1e-05,\n",
       "        0.0018000000000000002+/-1e-05, 0.00125+/-1e-05, 0.00076+/-1e-05,\n",
       "        0.00033+/-1e-05, 0.0001+/-1e-05, 0.00057+/-1e-05, 1e-05+/-1e-05,\n",
       "        0.0+/-1e-05], dtype=object))"
      ]
     },
     "execution_count": 66,
     "metadata": {},
     "output_type": "execute_result"
    }
   ],
   "source": [
    "valj = np.loadtxt('valj.txt')\n",
    "\n",
    "mu_v = unp.uarray(valj[:, 1], 17*[0.01]) * 1e-3\n",
    "F_v = unp.uarray(valj[:, 0], 17 * [0.1]) * 1e-3 * 9.81 + k_i * mu_v\n",
    "\n",
    "d_v = unp.uarray([7e-3], [0.02e-3])\n",
    "l_v = unp.uarray([56e-2], [0.02e-2])\n",
    "m_v = unp.uarray([214e-3], [2e-3])\n",
    "\n",
    "J_v = np.pi * (d_v / 2) ** 4 / 4\n",
    "rho_v = m_v / (np.pi * (d_v / 2) ** 2 * l_v)\n",
    "\n",
    "par_v, cov_v= curve_fit(linearna, unp.nominal_values(F_v), unp.nominal_values(mu_v), sigma=(unp.std_devs(mu_v) + unp.std_devs(F_v)))\n",
    "\n",
    "k_v, n_v = par_v\n",
    "dk_v, dn_v = np.sqrt(np.diag(cov_v))\n",
    "\n",
    "k_v = unp.uarray([k_v], [dk_v])\n",
    "\n",
    "E_v = (l_v ** 3) / (48 * J_v * k_v)\n",
    "\n",
    "F_max_v = 8 * E_v * J_v * 0.1e-2 / (d_v * l_v)\n",
    "\n",
    "u_v = (9.81 * m_v) * l_v ** 3 / (48 * E_v * J_v )\n",
    "\n",
    "k_v, J_v, E_v * 1e-9, F_max_v, u_v * 1e3, rho_v\n"
   ]
  },
  {
   "cell_type": "code",
   "execution_count": 67,
   "metadata": {},
   "outputs": [
    {
     "data": {
      "image/png": "[encoded data removed]",
      "text/plain": [
       "<Figure size 432x288 with 1 Axes>"
      ]
     },
     "metadata": {
      "needs_background": "light"
     },
     "output_type": "display_data"
    }
   ],
   "source": [
    "fig, ax = plt.subplots()\n",
    "\n",
    "ax.errorbar(unp.nominal_values(F_v), unp.nominal_values(mu_v)*1e3, yerr=unp.std_devs(mu_v) * 1e3, xerr=unp.std_devs(F_v), fmt='.', ecolor='dimgray', label='meritve')\n",
    "\n",
    "ax.plot(unp.nominal_values(F_v), linearna(unp.nominal_values(F_v), *par_v) * 1e3, color='k', label='regresivna premica')\n",
    "\n",
    "ax.set_title('Odmik $u_0$ pri sili $F$ - krogelni profil')\n",
    "ax.set_xlabel(r'$F [N]$')\n",
    "ax.set_ylabel(r'$u_0$[mm]')\n",
    "ax.legend()\n",
    "fig.tight_layout()\n",
    "fig.savefig('valj.pdf')"
   ]
  }
 ],
 "metadata": {
  "kernelspec": {
   "display_name": "Python 3",
   "language": "python",
   "name": "python3"
  },
  "language_info": {
   "codemirror_mode": {
    "name": "ipython",
    "version": 3
   },
   "file_extension": ".py",
   "mimetype": "text/x-python",
   "name": "python",
   "nbconvert_exporter": "python",
   "pygments_lexer": "ipython3",
   "version": "3.10.8"
  },
  "orig_nbformat": 4,
  "vscode": {
   "interpreter": {
    "hash": "e7370f93d1d0cde622a1f8e1c04877d8463912d04d973331ad4851f04de6915a"
   }
  }
 },
 "nbformat": 4,
 "nbformat_minor": 2
}
