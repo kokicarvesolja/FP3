{
 "cells": [
  {
   "cell_type": "code",
   "execution_count": 2,
   "id": "bc003592",
   "metadata": {},
   "outputs": [],
   "source": [
    "import matplotlib.pyplot as plt\n",
    "from matplotlib import rc\n",
    "import numpy as np\n",
    "from scipy.optimize import curve_fit\n",
    "from uncertainties import ufloat\n",
    "from uncertainties import unumpy as unp\n",
    "import array_to_latex as a2l\n",
    "import csv\n",
    "import pandas as pd\n",
    "from astropy.io.votable import parse\n",
    "from astropy.table import QTable, Table, Column\n",
    "\n",
    "rc('font', **{'family': 'serif', 'serif': ['Computer Modern']}) #font na grafih je LaTexov\n",
    "rc('text', usetex=True)"
   ]
  },
  {
   "cell_type": "code",
   "execution_count": 3,
   "id": "8acbea4e",
   "metadata": {},
   "outputs": [],
   "source": [
    "mi_0 = 1.257e-6\n",
    "\n",
    "R = unp.uarray([10.0e3], [0.5e3])\n",
    "C = unp.uarray([1.0e-6], [0.1e-6])\n",
    "\n",
    "N_1 = 2000\n",
    "r = unp.uarray([18e-3], [0.1e-3]) / 2\n",
    "r1 = unp.uarray([23.0e-3], [0.5e-3]) / 2\n",
    "\n",
    "N_2 = 200\n",
    "r2 = unp.uarray([250e-3], [2e-3]) / 2\n",
    "d2 = 2.4e-2\n",
    "\n",
    "I = unp.uarray([4.046], [0.001])"
   ]
  },
  {
   "cell_type": "code",
   "execution_count": 3,
   "id": "1f4ee51c",
   "metadata": {},
   "outputs": [
    {
     "name": "stdout",
     "output_type": "stream",
     "text": [
      "\\begin{array}\n",
      "    5.00 &  180.00\\\\\n",
      "    6.00 &  171.00\\\\\n",
      "    7.00 &  168.00\\\\\n",
      "    8.00 &  143.00\\\\\n",
      "    9.00 &  125.00\\\\\n",
      "   10.00 &  111.00\\\\\n",
      "   11.00 &   97.00\\\\\n",
      "   12.00 &   84.00\\\\\n",
      "   13.00 &   76.00\\\\\n",
      "   14.00 &   69.00\\\\\n",
      "   15.00 &   63.00\\\\\n",
      "   16.00 &   60.00\\\\\n",
      "   17.00 &   59.00\\\\\n",
      "   18.00 &   56.00\\\\\n",
      "   19.00 &   53.00\\\\\n",
      "   20.00 &   27.00\\\\\n",
      "   25.00 &   13.00\\\\\n",
      "   30.00 &    9.00\\\\\n",
      "   35.00 &    3.00\n",
      "\\end{array}\n",
      "None\n"
     ]
    }
   ],
   "source": [
    "data = np.loadtxt('meritve1.txt')\n",
    "\n",
    "d = unp.uarray(data[:, 0], 19 * [0.5]) * 1e-2\n",
    "\n",
    "U = unp.uarray(data[:, 1], 19 * [0.5]) * 1e-3\n",
    "\n",
    "len(unp.nominal_values(d)), len(unp.nominal_values(U))\n",
    "\n",
    "print(a2l.to_ltx(data, frmt='{:6.2f}', arraytype='array'))"
   ]
  },
  {
   "cell_type": "code",
   "execution_count": 39,
   "id": "93351893",
   "metadata": {},
   "outputs": [
    {
     "data": {
      "image/png": "[encoded data removed]",
      "text/plain": [
       "<Figure size 432x288 with 1 Axes>"
      ]
     },
     "metadata": {
      "needs_background": "light"
     },
     "output_type": "display_data"
    }
   ],
   "source": [
    "B_2 = U * 2 * R * C / (N_1 * (r ** 2 + r1 ** 2))\n",
    "\n",
    "fig, ax = plt.subplots()\n",
    "\n",
    "ax.errorbar(unp.nominal_values(d), unp.nominal_values(B_2), yerr=unp.std_devs(B_2), fmt='.', capsize=3, label='meritev')\n",
    "\n",
    "raz = np.linspace(5e-2, 35e-2)\n",
    "B_2_nap = N_2 * mi_0 * unp.nominal_values(I) * (unp.nominal_values(r2) ** 2) / (2 * ((unp.nominal_values(r2) ** 2 + raz ** 2) ** (3/2)))\n",
    "ax.plot(raz, B_2_nap * 2.5, color = 'k', linestyle = '-', label = 'Izračun')\n",
    "\n",
    "ax.set_title('Magnetna gostota $B(h)$ na osi velike tuljave')\n",
    "ax.set_xlabel(r'$h[m]$')\n",
    "ax.set_ylabel(r'$B[T]$')\n",
    "ax.legend()\n",
    "fig.savefig('graf1.pdf')"
   ]
  },
  {
   "cell_type": "code",
   "execution_count": 4,
   "id": "9d1ab286",
   "metadata": {},
   "outputs": [
    {
     "name": "stdout",
     "output_type": "stream",
     "text": [
      "\\begin{array}\n",
      "    0.00 &    0.06\\\\\n",
      "    0.50 &    0.60\\\\\n",
      "    1.00 &    1.12\\\\\n",
      "    1.55 &    1.54\\\\\n",
      "    2.00 &    2.07\\\\\n",
      "    2.52 &    2.50\\\\\n",
      "    3.00 &    3.00\\\\\n",
      "    3.50 &    3.45\\\\\n",
      "    4.00 &    4.00\\\\\n",
      "    4.50 &    4.35\\\\\n",
      "    5.00 &    4.68\n",
      "\\end{array}\n",
      "None\n"
     ]
    }
   ],
   "source": [
    "data1 = np.loadtxt('meritve2.txt')\n",
    "\n",
    "I = unp.uarray(data1[:, 0], 11 * [0.1])\n",
    "U = unp.uarray(data1[:, 0], 11 * [5e-2])\n",
    "\n",
    "print(a2l.to_ltx(data1, frmt='{:6.2f}', arraytype='array'))"
   ]
  },
  {
   "cell_type": "code",
   "execution_count": 50,
   "id": "ca631269",
   "metadata": {},
   "outputs": [
    {
     "data": {
      "text/plain": [
       "(0.046893317748509224,\n",
       " 8.427657172994096e-12,\n",
       " 37305.74204336454,\n",
       " 6.704580089891882e-06)"
      ]
     },
     "execution_count": 50,
     "metadata": {},
     "output_type": "execute_result"
    },
    {
     "data": {
      "image/png": "[encoded data removed]",
      "text/plain": [
       "<Figure size 432x288 with 1 Axes>"
      ]
     },
     "metadata": {
      "needs_background": "light"
     },
     "output_type": "display_data"
    }
   ],
   "source": [
    "B_B = U * 2 * R * C / (N_1 * (r ** 2 + r1 ** 2))\n",
    "\n",
    "def linearna (x, k, n):\n",
    "    return k * x + n\n",
    "\n",
    "par, cov = curve_fit(linearna, unp.nominal_values(I), unp.nominal_values(B_B))\n",
    "k, n = par\n",
    "\n",
    "dk, dn = np.sqrt(np.diag(cov))\n",
    "\n",
    "fig, ax = plt.subplots()\n",
    "\n",
    "ax.errorbar(unp.nominal_values(I), unp.nominal_values(B_B), yerr=unp.std_devs(B_B), fmt='.', capsize=3, label='Meritev')\n",
    "\n",
    "tok = np.linspace(0, 5)\n",
    "\n",
    "ax.plot(tok, linearna(tok, *par), label='Izračunano', color='k')\n",
    "\n",
    "ax.set_title('Magnetna gostota $B(I)$ v reži')\n",
    "ax.set_xlabel(r'$I[A]$')\n",
    "ax.set_ylabel(r'$B[T]$')\n",
    "ax.legend()\n",
    "fig.savefig('graf2.pdf')\n",
    "k, dk, k/mi_0, dk/mi_0\n"
   ]
  }
 ],
 "metadata": {
  "kernelspec": {
   "display_name": "Python 3 (ipykernel)",
   "language": "python",
   "name": "python3"
  },
  "language_info": {
   "codemirror_mode": {
    "name": "ipython",
    "version": 3
   },
   "file_extension": ".py",
   "mimetype": "text/x-python",
   "name": "python",
   "nbconvert_exporter": "python",
   "pygments_lexer": "ipython3",
   "version": "3.10.8"
  },
  "vscode": {
   "interpreter": {
    "hash": "e7370f93d1d0cde622a1f8e1c04877d8463912d04d973331ad4851f04de6915a"
   }
  }
 },
 "nbformat": 4,
 "nbformat_minor": 5
}
