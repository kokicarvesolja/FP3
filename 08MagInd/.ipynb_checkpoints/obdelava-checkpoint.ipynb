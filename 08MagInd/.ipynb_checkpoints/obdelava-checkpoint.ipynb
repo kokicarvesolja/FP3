{
 "cells": [
  {
   "cell_type": "code",
   "execution_count": 2,
   "id": "bc003592",
   "metadata": {},
   "outputs": [],
   "source": [
    "import matplotlib.pyplot as plt\n",
    "from matplotlib import rc\n",
    "import numpy as np\n",
    "from scipy.optimize import curve_fit\n",
    "from uncertainties import ufloat\n",
    "from uncertainties import unumpy as unp\n",
    "import array_to_latex as a2l\n",
    "import csv\n",
    "import pandas as pd\n",
    "from astropy.io.votable import parse\n",
    "from astropy.table import QTable, Table, Column\n",
    "\n",
    "rc('font', **{'family': 'serif', 'serif': ['Computer Modern']}) #font na grafih je LaTexov\n",
    "rc('text', usetex=True)"
   ]
  },
  {
   "cell_type": "code",
   "execution_count": 5,
   "id": "8acbea4e",
   "metadata": {},
   "outputs": [],
   "source": [
    "mi_0 = 1.257e-6\n",
    "\n",
    "R = unp.uarray([10.0e3], [0.5e3])\n",
    "C = unp.uarray([1.0e-6], [0.1e-6])\n",
    "\n",
    "N_1 = 2000\n",
    "r = unp.uarray([18e-3], [0.1e-3]) / 2\n",
    "r1 = unp.uarray([23.0e-3], [0.5e-3]) / 2\n",
    "\n",
    "N_2 = 200\n",
    "r2 = unp.uarray([250e-3], [2e-3]) / 2\n",
    "d = 2.4e-2\n",
    "\n",
    "I = unp.uarray([4.046], [0.001])"
   ]
  },
  {
   "cell_type": "code",
   "execution_count": 7,
   "id": "1f4ee51c",
   "metadata": {},
   "outputs": [
    {
     "data": {
      "text/plain": [
       "(array([0.0+/-0.005, 0.05+/-0.005, 0.06+/-0.005, 0.07+/-0.005,\n",
       "        0.08+/-0.005, 0.09+/-0.005, 0.1+/-0.005, 0.11+/-0.005,\n",
       "        0.12+/-0.005, 0.13+/-0.005, 0.14+/-0.005, 0.15+/-0.005,\n",
       "        0.16+/-0.005, 0.17+/-0.005, 0.18+/-0.005, 0.19+/-0.005,\n",
       "        0.2+/-0.005, 0.25+/-0.005, 0.3+/-0.005,\n",
       "        0.35000000000000003+/-0.005], dtype=object),\n",
       " array([0.243+/-0.0005, 0.18+/-0.0005, 0.171+/-0.0005, 0.168+/-0.0005,\n",
       "        0.14300000000000002+/-0.0005, 0.125+/-0.0005, 0.111+/-0.0005,\n",
       "        0.097+/-0.0005, 0.084+/-0.0005, 0.076+/-0.0005, 0.069+/-0.0005,\n",
       "        0.063+/-0.0005, 0.06+/-0.0005, 0.059000000000000004+/-0.0005,\n",
       "        0.056+/-0.0005, 0.053+/-0.0005, 0.027+/-0.0005,\n",
       "        0.013000000000000001+/-0.0005, 0.009000000000000001+/-0.0005,\n",
       "        0.003+/-0.0005], dtype=object))"
      ]
     },
     "execution_count": 7,
     "metadata": {},
     "output_type": "execute_result"
    }
   ],
   "source": [
    "data = np.loadtxt('meritve1.txt')\n",
    "\n",
    "d = unp.uarray(data[:, 0], 20 * [0.5]) * 1e-2\n",
    "\n",
    "U = unp.uarray(data[:, 1], 20 * [0.5]) * 1e-3\n",
    "\n",
    "d, U"
   ]
  }
 ],
 "metadata": {
  "kernelspec": {
   "display_name": "Python 3 (ipykernel)",
   "language": "python",
   "name": "python3"
  },
  "language_info": {
   "codemirror_mode": {
    "name": "ipython",
    "version": 3
   },
   "file_extension": ".py",
   "mimetype": "text/x-python",
   "name": "python",
   "nbconvert_exporter": "python",
   "pygments_lexer": "ipython3",
   "version": "3.10.8"
  },
  "vscode": {
   "interpreter": {
    "hash": "e7370f93d1d0cde622a1f8e1c04877d8463912d04d973331ad4851f04de6915a"
   }
  }
 },
 "nbformat": 4,
 "nbformat_minor": 5
}
