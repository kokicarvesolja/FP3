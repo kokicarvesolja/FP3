{
 "cells": [
  {
   "cell_type": "code",
   "execution_count": 10,
   "id": "4a064b23",
   "metadata": {},
   "outputs": [],
   "source": [
    "import matplotlib.pyplot as plt\n",
    "from matplotlib import rc\n",
    "import numpy as np\n",
    "from scipy.optimize import curve_fit\n",
    "from uncertainties import ufloat\n",
    "from uncertainties import unumpy as unp\n",
    "import array_to_latex as a2l\n",
    "import csv\n",
    "import pandas as pd\n",
    "from astropy.io.votable import parse\n",
    "from astropy.table import QTable, Table, Column\n",
    "import sympy as sym\n",
    "\n",
    "rc('font', **{'family': 'serif', 'serif': ['Computer Modern']}) #font na grafih je LaTexov\n",
    "rc('text', usetex=True)"
   ]
  },
  {
   "cell_type": "code",
   "execution_count": 11,
   "id": "dc9786bc",
   "metadata": {},
   "outputs": [
    {
     "name": "stdout",
     "output_type": "stream",
     "text": [
      "0.009 & 0.023 & 0.018 & 0.037 \\\\\n",
      "\n"
     ]
    }
   ],
   "source": [
    "# kocka\n",
    "a, Δa = 60e-3, 0.5e-3\n",
    "d, Δd = 40e-3, 0.5e-3\n",
    "m_k, dm_k = 1193e-3, 1e-3\n",
    "\n",
    "# valj\n",
    "r, Δr = 15e-3 / 2, 0.5e-3 / 2\n",
    "R, ΔR = 87.2e-3 / 2, 0.1e-3 / 2\n",
    "H, ΔH = 50e-3, 0.5e-3\n",
    "m_v, Δm_v = 2500e-3, 1e-3\n",
    "\n",
    "ℓ, Δℓ = 290e-3, 5e-3\n",
    "ρ, Δρ = 0.63e-3, 0.05e-3\n",
    "\n",
    "m_z, Δm_z = 754e-3, 2e-3\n",
    "\n",
    "t_p = 1/10 * np.array([18.972, 18.744, 18.875])\n",
    "σt_p = np.std(t_p)\n",
    "t_v = 1/10 * np.array([52.996, 52.625, 53.169])\n",
    "σt_v = np.std(t_v)\n",
    "t_k = 1/10 * np.array([36.361, 36.660, 36.240])\n",
    "σt_k = np.std(t_k)\n",
    "t_z = 1/10 * np.array([28.954, 29.433, 29.857])\n",
    "σt_z = np.std(t_z)\n",
    "print(f'{σt_p:.3f} & {σt_v:.3f} & {σt_k:.3f} & {σt_z:.3f} \\\\\\\\\\n')"
   ]
  },
  {
   "cell_type": "code",
   "execution_count": 12,
   "id": "ea4b408c",
   "metadata": {},
   "outputs": [
    {
     "name": "stdout",
     "output_type": "stream",
     "text": [
      "1.874 & 5.263 & 3.666 & 2.943 \\\\\n",
      "1.888 & 5.317 & 3.624 & 2.986 \\\\\n",
      "1.897 & 5.300 & 3.636 & 2.895 \\\\\n",
      "\n"
     ]
    }
   ],
   "source": [
    "print(str.join('',\n",
    "    [f'{t_p:.3f} & {t_v:.3f} & {t_k:.3f} & {t_z:.3f} \\\\\\\\\\n'\n",
    "     for t_p, t_v, t_k, t_z in sorted(zip(t_p, t_v, t_k, t_z))]\n",
    "))"
   ]
  },
  {
   "cell_type": "code",
   "execution_count": 13,
   "id": "2c5300e3",
   "metadata": {},
   "outputs": [
    {
     "name": "stdout",
     "output_type": "stream",
     "text": [
      "1.886 & 5.293 & 3.642 & 2.941 \\\\\n",
      "\n"
     ]
    }
   ],
   "source": [
    "t_p = np.mean(t_p)\n",
    "t_v = np.mean(t_v)\n",
    "t_k = np.mean(t_k)\n",
    "t_z = np.mean(t_z)\n",
    "print(f'{t_p:.3f} & {t_v:.3f} & {t_k:.3f} & {t_z:.3f} \\\\\\\\\\n')"
   ]
  },
  {
   "cell_type": "code",
   "execution_count": 39,
   "id": "cc0d6500",
   "metadata": {
    "scrolled": true
   },
   "outputs": [
    {
     "data": {
      "text/plain": [
       "(2.4465125000000003, 0.007188543402525995)"
      ]
     },
     "execution_count": 39,
     "metadata": {},
     "output_type": "execute_result"
    }
   ],
   "source": [
    "# vztrajnostni moment valja \n",
    "J_v = 0.5*m_v * (r**2 + R**2)\n",
    "ΔJ_v = np.sqrt(\n",
    "    (0.5*m_v * 2*r * Δr)**2 +\n",
    "    (0.5*m_v * 2*R * ΔR)**2\n",
    ")\n",
    "1e3 * J_v, 1e3 * ΔJ_v"
   ]
  },
  {
   "cell_type": "code",
   "execution_count": 43,
   "id": "931b4845",
   "metadata": {},
   "outputs": [
    {
     "data": {
      "text/plain": [
       "(3.94907743702788, 0.0408865926071478)"
      ]
     },
     "execution_count": 43,
     "metadata": {},
     "output_type": "execute_result"
    }
   ],
   "source": [
    " _J_v, _t_v, _t_p = sym.symbols('J_v t_v t_p')\n",
    "num_assoc = {_J_v: J_v, _t_v: t_v, _t_p: t_p}\n",
    "_D = _J_v * (2*sym.pi / _t_v)**2 / (1 - (_t_p/_t_v)**2)\n",
    "_ΔD = sym.sqrt(\n",
    "    (_D.diff(_J_v) * ΔJ_v)**2 +\n",
    "    (_D.diff(_t_v) * σt_v)**2 +\n",
    "    (_D.diff(_t_p) * σt_p)**2\n",
    ")\n",
    "\n",
    "D = _D.evalf(10, subs=num_assoc)\n",
    "ΔD = _ΔD.evalf(10, subs=num_assoc)\n",
    "1e3 * D, 1e3 * ΔD"
   ]
  },
  {
   "cell_type": "code",
   "execution_count": 44,
   "id": "a46b089d",
   "metadata": {},
   "outputs": [
    {
     "data": {
      "text/plain": [
       "(0.970906559182083, 0.0167006235589628)"
      ]
     },
     "execution_count": 44,
     "metadata": {},
     "output_type": "execute_result"
    }
   ],
   "source": [
    "# Calculate J_μ for body μ. The actual data to be used is given as values in the `num_assoc` dict.\n",
    "_D, _t_μ, _σt_μ, _t_p = sym.symbols('D t_\\mu \\sigma_{t_μ} t_p')\n",
    "num_assoc = {_D: D, _t_μ: t_k, _σt_μ: σt_k, _t_p: t_p}\n",
    "_J_μ = _D * (1 - (_t_p/_t_μ)**2) * (_t_μ / (2*sym.pi))**2\n",
    "_ΔJ_μ = sym.sqrt(\n",
    "    (_J_μ.diff(_D) * ΔD)**2 +\n",
    "    (_J_μ.diff(_t_μ) * _σt_μ)**2 +\n",
    "    (_J_μ.diff(_t_p) * σt_p)**2\n",
    ")\n",
    "\n",
    "J_μ = _J_μ.evalf(10, subs=num_assoc)\n",
    "ΔJ_μ = _ΔJ_μ.evalf(10, subs=num_assoc)\n",
    "1e3 * J_μ, 1e3 * ΔJ_μ"
   ]
  },
  {
   "cell_type": "code",
   "execution_count": 46,
   "id": "e3a6b822",
   "metadata": {},
   "outputs": [
    {
     "data": {
      "text/plain": [
       "(0.971700268735276, 0.0135378140730946)"
      ]
     },
     "execution_count": 46,
     "metadata": {},
     "output_type": "execute_result"
    }
   ],
   "source": [
    " _m_k, _a, _d = sym.symbols('m_k a d')\n",
    "num_assoc = {_m_k: m_k, _a: a, _d: d}\n",
    "_J_k = _m_k * (2/3 * _a**4 - sym.pi/8 * _d**4) / (4*_a**2 - sym.pi * _d**2)\n",
    "_ΔJ_k = sym.sqrt(\n",
    "    (_J_k.diff(_m_k) * dm_k)**2 +\n",
    "    (_J_k.diff(_a) * Δa)**2 +\n",
    "    (_J_k.diff(_d) * Δd)**2\n",
    ")\n",
    "\n",
    "_J_k = _J_k.evalf(10, subs=num_assoc)\n",
    "_ΔJ_k = _ΔJ_k.evalf(10, subs=num_assoc)\n",
    "1e3 * _J_k, 1e3 * _ΔJ_k"
   ]
  }
 ],
 "metadata": {
  "kernelspec": {
   "display_name": "Python 3 (ipykernel)",
   "language": "python",
   "name": "python3"
  },
  "language_info": {
   "codemirror_mode": {
    "name": "ipython",
    "version": 3
   },
   "file_extension": ".py",
   "mimetype": "text/x-python",
   "name": "python",
   "nbconvert_exporter": "python",
   "pygments_lexer": "ipython3",
   "version": "3.10.8"
  }
 },
 "nbformat": 4,
 "nbformat_minor": 5
}
